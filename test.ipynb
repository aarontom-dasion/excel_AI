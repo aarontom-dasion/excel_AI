{
 "cells": [
  {
   "cell_type": "code",
   "execution_count": null,
   "metadata": {},
   "outputs": [],
   "source": [
    "# pip install crawl4ai\n",
    "# pip install pandas\n",
    "# pip install awscli\n",
    "# pip install openpyxl\n",
    "# pip install googlesearch-python"
   ]
  },
  {
   "cell_type": "code",
   "execution_count": null,
   "metadata": {},
   "outputs": [],
   "source": [
    "pip install openai"
   ]
  },
  {
   "cell_type": "code",
   "execution_count": 7,
   "metadata": {},
   "outputs": [],
   "source": [
    "import pandas as pd"
   ]
  },
  {
   "cell_type": "code",
   "execution_count": 54,
   "metadata": {},
   "outputs": [],
   "source": [
    "df = pd.read_excel(\"Test.xlsx\", engine='openpyxl')"
   ]
  },
  {
   "cell_type": "code",
   "execution_count": 50,
   "metadata": {},
   "outputs": [
    {
     "name": "stdout",
     "output_type": "stream",
     "text": [
      "['Stock Ticker', 'Industry', 'Revenue', 'Profit', 'EBITDA', 'Market Cap']\n",
      "['Apple', 'Starbucks', 'Tesla', 'Nvidia ', 'Google']\n"
     ]
    }
   ],
   "source": [
    "headers = df.columns[1:].tolist()\n",
    "target = df.iloc[:, 0].tolist()\n",
    "print(headers)\n",
    "print(target)"
   ]
  },
  {
   "cell_type": "code",
   "execution_count": 55,
   "metadata": {},
   "outputs": [
    {
     "name": "stderr",
     "output_type": "stream",
     "text": [
      "/var/folders/bc/hk3dr3v167s6wfqq_yz6tx1c0000gn/T/ipykernel_39731/187437976.py:29: FutureWarning: Setting an item of incompatible dtype is deprecated and will raise an error in a future version of pandas. Value '2023: AAPL' has dtype incompatible with float64, please explicitly cast to a compatible dtype first.\n",
      "  df.at[index, column] = filled_value\n"
     ]
    },
    {
     "name": "stdout",
     "output_type": "stream",
     "text": [
      "filled 0 Stock Ticker\n"
     ]
    },
    {
     "name": "stderr",
     "output_type": "stream",
     "text": [
      "/var/folders/bc/hk3dr3v167s6wfqq_yz6tx1c0000gn/T/ipykernel_39731/187437976.py:29: FutureWarning: Setting an item of incompatible dtype is deprecated and will raise an error in a future version of pandas. Value '2023 : Technology and Consumer Electronics.' has dtype incompatible with float64, please explicitly cast to a compatible dtype first.\n",
      "  df.at[index, column] = filled_value\n"
     ]
    },
    {
     "name": "stdout",
     "output_type": "stream",
     "text": [
      "filled 0 Industry\n"
     ]
    },
    {
     "name": "stderr",
     "output_type": "stream",
     "text": [
      "/var/folders/bc/hk3dr3v167s6wfqq_yz6tx1c0000gn/T/ipykernel_39731/187437976.py:29: FutureWarning: Setting an item of incompatible dtype is deprecated and will raise an error in a future version of pandas. Value '2022 : $394.3 billion' has dtype incompatible with float64, please explicitly cast to a compatible dtype first.\n",
      "  df.at[index, column] = filled_value\n"
     ]
    },
    {
     "name": "stdout",
     "output_type": "stream",
     "text": [
      "filled 0 Revenue\n"
     ]
    },
    {
     "name": "stderr",
     "output_type": "stream",
     "text": [
      "/var/folders/bc/hk3dr3v167s6wfqq_yz6tx1c0000gn/T/ipykernel_39731/187437976.py:29: FutureWarning: Setting an item of incompatible dtype is deprecated and will raise an error in a future version of pandas. Value '2023 : $94 billion (approx.)' has dtype incompatible with float64, please explicitly cast to a compatible dtype first.\n",
      "  df.at[index, column] = filled_value\n"
     ]
    },
    {
     "name": "stdout",
     "output_type": "stream",
     "text": [
      "filled 0 Profit\n"
     ]
    },
    {
     "name": "stderr",
     "output_type": "stream",
     "text": [
      "/var/folders/bc/hk3dr3v167s6wfqq_yz6tx1c0000gn/T/ipykernel_39731/187437976.py:29: FutureWarning: Setting an item of incompatible dtype is deprecated and will raise an error in a future version of pandas. Value '2023 : $100.36 billion' has dtype incompatible with float64, please explicitly cast to a compatible dtype first.\n",
      "  df.at[index, column] = filled_value\n"
     ]
    },
    {
     "name": "stdout",
     "output_type": "stream",
     "text": [
      "filled 0 EBITDA\n"
     ]
    },
    {
     "name": "stderr",
     "output_type": "stream",
     "text": [
      "/var/folders/bc/hk3dr3v167s6wfqq_yz6tx1c0000gn/T/ipykernel_39731/187437976.py:29: FutureWarning: Setting an item of incompatible dtype is deprecated and will raise an error in a future version of pandas. Value '2023 : Approximately $2.7 trillion.' has dtype incompatible with float64, please explicitly cast to a compatible dtype first.\n",
      "  df.at[index, column] = filled_value\n"
     ]
    },
    {
     "name": "stdout",
     "output_type": "stream",
     "text": [
      "filled 0 Market Cap\n",
      "filled 1 Stock Ticker\n",
      "filled 1 Industry\n",
      "filled 1 Revenue\n",
      "filled 1 Profit\n",
      "filled 1 EBITDA\n",
      "filled 1 Market Cap\n",
      "filled 2 Stock Ticker\n",
      "filled 2 Industry\n",
      "filled 2 Revenue\n",
      "filled 2 Profit\n",
      "filled 2 EBITDA\n",
      "filled 2 Market Cap\n",
      "filled 3 Stock Ticker\n",
      "filled 3 Industry\n",
      "filled 3 Revenue\n",
      "filled 3 Profit\n",
      "filled 3 EBITDA\n",
      "filled 3 Market Cap\n",
      "filled 4 Stock Ticker\n",
      "filled 4 Industry\n",
      "filled 4 Revenue\n",
      "filled 4 Profit\n",
      "filled 4 EBITDA\n",
      "filled 4 Market Cap\n",
      "  Unnamed: 0  Stock Ticker                                     Industry  \\\n",
      "0      Apple    2023: AAPL  2023 : Technology and Consumer Electronics.   \n",
      "1  Starbucks   2023 : SBUX                  2023 : Coffeehouse industry   \n",
      "2      Tesla   2023 : TSLA                2023 : Automotive and energy.   \n",
      "3    Nvidia    2023 : NVDA                 2023 : Semiconductor and AI.   \n",
      "4     Google  2023 : GOOGL           2023 : Technology and advertising.   \n",
      "\n",
      "                 Revenue                           Profit  \\\n",
      "0  2022 : $394.3 billion     2023 : $94 billion (approx.)   \n",
      "1  2022 : $32.25 billion              2023 : $1.6 billion   \n",
      "2  2022 : $81.46 billion        2023 : Not available yet.   \n",
      "3   2023 : $26.9 billion             2023 : $4.37 billion   \n",
      "4  2022 : $282.8 billion  2023 : $61.5 billion (estimate)   \n",
      "\n",
      "                           EBITDA                           Market Cap  \n",
      "0          2023 : $100.36 billion  2023 : Approximately $2.7 trillion.  \n",
      "1            2023 : $4.58 billion    2023: Approximately $120 billion.  \n",
      "2  2023 : $11 billion (estimated)   2023 : Approximately $800 billion.  \n",
      "3           2023 : $12.44 billion    2023 : Approximately $1 trillion.  \n",
      "4       2023 : Not available yet.                 2023 : $1.5 trillion  \n"
     ]
    }
   ],
   "source": [
    "filled_df = fill_nan_with_chatgpt(df)\n",
    "print(filled_df)"
   ]
  },
  {
   "cell_type": "code",
   "execution_count": 53,
   "metadata": {},
   "outputs": [],
   "source": [
    "import openai\n",
    "import pandas as pd\n",
    "import os\n",
    "\n",
    "# Set your OpenAI API key\n",
    "client = openai.OpenAI(api_key='')\n",
    "\n",
    "def fill_nan_with_chatgpt(df, word_cap: int ):\n",
    "    for index, row in df.iterrows():\n",
    "        for column in df.columns[1:]:  # Skip the first column if it's not relevant\n",
    "            if pd.isna(row[column]):\n",
    "                # Create a prompt using the context of the row and column\n",
    "                prompt = f\"What is the {column} for {row['Unnamed: 0']}? Answer to the best of your knowledge. If your information is up to a certain date, and the question requires real-time data, answer in the format 'year : [information]'. Otherwise simply just be concise in your answer\"\n",
    "\n",
    "                # Call the ChatGPT API\n",
    "                response = client.chat.completions.create(\n",
    "                    model=\"gpt-4o-mini\",\n",
    "                    messages=[\n",
    "                        {\"role\": \"system\", \"content\": \"You are a highly intelligent assistant. Your role is to provide information as concisely as possible, as requested. Do not respond in more than {word_cap} words ever.\"},\n",
    "                        {\"role\": \"user\", \"content\": prompt}\n",
    "                    ],\n",
    "                    max_tokens=150\n",
    "                )\n",
    "\n",
    "                # Extract the response text\n",
    "                filled_value = response.choices[0].message.content.strip()\n",
    "\n",
    "                # Update the DataFrame\n",
    "                df.at[index, column] = filled_value\n",
    "                print(f'filled {index} {column}')\n",
    "\n",
    "    return df\n"
   ]
  },
  {
   "cell_type": "code",
   "execution_count": 51,
   "metadata": {},
   "outputs": [
    {
     "name": "stdout",
     "output_type": "stream",
     "text": [
      "  Unnamed: 0  Stock Ticker  Industry  Revenue  Profit  EBITDA  Market Cap\n",
      "0      Apple           NaN       NaN      NaN     NaN     NaN         NaN\n",
      "1  Starbucks           NaN       NaN      NaN     NaN     NaN         NaN\n",
      "2      Tesla           NaN       NaN      NaN     NaN     NaN         NaN\n",
      "3    Nvidia            NaN       NaN      NaN     NaN     NaN         NaN\n",
      "4     Google           NaN       NaN      NaN     NaN     NaN         NaN\n"
     ]
    }
   ],
   "source": [
    "print(df)"
   ]
  },
  {
   "cell_type": "code",
   "execution_count": null,
   "metadata": {},
   "outputs": [],
   "source": [
    "links = [None] * len(target)\n",
    "\n",
    "# Create the DataFrame\n",
    "links_df = pd.DataFrame({\n",
    "    'target': target,\n",
    "    'links': links\n",
    "})"
   ]
  },
  {
   "cell_type": "code",
   "execution_count": 34,
   "metadata": {},
   "outputs": [
    {
     "data": {
      "text/html": [
       "<div>\n",
       "<style scoped>\n",
       "    .dataframe tbody tr th:only-of-type {\n",
       "        vertical-align: middle;\n",
       "    }\n",
       "\n",
       "    .dataframe tbody tr th {\n",
       "        vertical-align: top;\n",
       "    }\n",
       "\n",
       "    .dataframe thead th {\n",
       "        text-align: right;\n",
       "    }\n",
       "</style>\n",
       "<table border=\"1\" class=\"dataframe\">\n",
       "  <thead>\n",
       "    <tr style=\"text-align: right;\">\n",
       "      <th></th>\n",
       "      <th>target</th>\n",
       "      <th>links</th>\n",
       "    </tr>\n",
       "  </thead>\n",
       "  <tbody>\n",
       "    <tr>\n",
       "      <th>0</th>\n",
       "      <td>Apple</td>\n",
       "      <td>None</td>\n",
       "    </tr>\n",
       "    <tr>\n",
       "      <th>1</th>\n",
       "      <td>Starbucks</td>\n",
       "      <td>None</td>\n",
       "    </tr>\n",
       "    <tr>\n",
       "      <th>2</th>\n",
       "      <td>Tesla</td>\n",
       "      <td>None</td>\n",
       "    </tr>\n",
       "    <tr>\n",
       "      <th>3</th>\n",
       "      <td>Nvidia</td>\n",
       "      <td>None</td>\n",
       "    </tr>\n",
       "    <tr>\n",
       "      <th>4</th>\n",
       "      <td>Google</td>\n",
       "      <td>None</td>\n",
       "    </tr>\n",
       "  </tbody>\n",
       "</table>\n",
       "</div>"
      ],
      "text/plain": [
       "      target links\n",
       "0      Apple  None\n",
       "1  Starbucks  None\n",
       "2      Tesla  None\n",
       "3    Nvidia   None\n",
       "4     Google  None"
      ]
     },
     "execution_count": 34,
     "metadata": {},
     "output_type": "execute_result"
    }
   ],
   "source": [
    "links_df"
   ]
  },
  {
   "cell_type": "code",
   "execution_count": null,
   "metadata": {},
   "outputs": [],
   "source": [
    "from googlesearch import search\n",
    "\n",
    "def google_search_headers(headers, num_links):\n",
    "    results = {}\n",
    "    for header in headers:\n",
    "        # Perform the search\n",
    "        search_results = search(header, num_results=num_links)\n",
    "        # Store the results in a dictionary\n",
    "        results[header] = list(search_results)\n",
    "    return results\n",
    "\n",
    "# Example usage\n",
    "headers = df.columns[1:].tolist()\n",
    "num_links = 5\n",
    "search_results = google_search_headers(headers, num_links)\n",
    "\n",
    "# Print the results\n",
    "for header, links in search_results.items():\n",
    "    print(f\"Header: {header}\")\n",
    "    for link in links:\n",
    "        print(link)\n",
    "    print()"
   ]
  }
 ],
 "metadata": {
  "kernelspec": {
   "display_name": "Python 3",
   "language": "python",
   "name": "python3"
  },
  "language_info": {
   "codemirror_mode": {
    "name": "ipython",
    "version": 3
   },
   "file_extension": ".py",
   "mimetype": "text/x-python",
   "name": "python",
   "nbconvert_exporter": "python",
   "pygments_lexer": "ipython3",
   "version": "3.10.16"
  }
 },
 "nbformat": 4,
 "nbformat_minor": 2
}
